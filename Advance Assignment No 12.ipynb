{
 "cells": [
  {
   "cell_type": "markdown",
   "id": "1a1aaedf",
   "metadata": {},
   "source": [
    ">__Q1. Does assigning a value to a string's indexed character violate Python's string immutability?__"
   ]
  },
  {
   "cell_type": "code",
   "execution_count": 4,
   "id": "66f30e9a",
   "metadata": {},
   "outputs": [
    {
     "ename": "TypeError",
     "evalue": "'str' object does not support item assignment",
     "output_type": "error",
     "traceback": [
      "\u001b[1;31m---------------------------------------------------------------------------\u001b[0m",
      "\u001b[1;31mTypeError\u001b[0m                                 Traceback (most recent call last)",
      "\u001b[1;32m<ipython-input-4-12f34bbb1c42>\u001b[0m in \u001b[0;36m<module>\u001b[1;34m\u001b[0m\n\u001b[0;32m      1\u001b[0m \u001b[0ma\u001b[0m\u001b[1;33m=\u001b[0m \u001b[1;34m'iNeuron'\u001b[0m\u001b[1;33m\u001b[0m\u001b[1;33m\u001b[0m\u001b[0m\n\u001b[1;32m----> 2\u001b[1;33m \u001b[0ma\u001b[0m\u001b[1;33m[\u001b[0m\u001b[1;36m2\u001b[0m\u001b[1;33m]\u001b[0m\u001b[1;33m=\u001b[0m\u001b[1;34m'o'\u001b[0m\u001b[1;33m\u001b[0m\u001b[1;33m\u001b[0m\u001b[0m\n\u001b[0m\u001b[0;32m      3\u001b[0m \u001b[0ma\u001b[0m\u001b[1;33m\u001b[0m\u001b[1;33m\u001b[0m\u001b[0m\n",
      "\u001b[1;31mTypeError\u001b[0m: 'str' object does not support item assignment"
     ]
    }
   ],
   "source": [
    "a= 'iNeuron'\n",
    "a[2]='o'\n",
    "a"
   ]
  },
  {
   "cell_type": "markdown",
   "id": "a1695de4",
   "metadata": {},
   "source": [
    "So, assigning a value to a string's indexed character does not violate Python's string immutability"
   ]
  },
  {
   "cell_type": "markdown",
   "id": "c6aa4d14",
   "metadata": {},
   "source": [
    ">__Q2. Does using the += operator to concatenate strings violate Python's string immutability? Why or why not?__"
   ]
  },
  {
   "cell_type": "markdown",
   "id": "cdb44f10",
   "metadata": {},
   "source": [
    "Ans. You didn't actually mutate the string. Strings are immutable, variables can point at whatever they want."
   ]
  },
  {
   "cell_type": "markdown",
   "id": "0a0293e7",
   "metadata": {},
   "source": [
    ">__Q3. In Python, how many different ways are there to index a character?__"
   ]
  },
  {
   "cell_type": "markdown",
   "id": "e83f8a9f",
   "metadata": {},
   "source": [
    "Ans. We can access characters in a String in Two ways : Accessing Characters by Positive Index Number. Accessing Characters by Negative Index Number."
   ]
  },
  {
   "cell_type": "markdown",
   "id": "c1990d67",
   "metadata": {},
   "source": [
    ">__Q4. What is the relationship between indexing and slicing?__"
   ]
  },
  {
   "cell_type": "markdown",
   "id": "afbfa885",
   "metadata": {},
   "source": [
    "Ans.  Indexing: Indexing is used to obtain individual elements. Slicing: Slicing is used to obtain a sequence of elements."
   ]
  },
  {
   "cell_type": "markdown",
   "id": "bc292374",
   "metadata": {},
   "source": [
    ">__Q5. What is an indexed character's exact data type? What is the data form of a slicing-generated substring?__"
   ]
  },
  {
   "cell_type": "markdown",
   "id": "e0204e33",
   "metadata": {},
   "source": [
    "Ans. In python there is no character data type, a character is a string of length one. It is represented by str class."
   ]
  },
  {
   "cell_type": "markdown",
   "id": "55911e80",
   "metadata": {},
   "source": [
    ">__Q6. What is the relationship between string and character \"types\" in Python?__"
   ]
  },
  {
   "cell_type": "markdown",
   "id": "0a59e98b",
   "metadata": {},
   "source": [
    "Ans.  Python does not have a separate character type. Instead an expression like s[8] returns a string-length-1 containing the character."
   ]
  },
  {
   "cell_type": "markdown",
   "id": "f84cd2e7",
   "metadata": {},
   "source": [
    ">__Q7. Identify at least two operators and one method that allow you to combine one or more smaller strings to create a larger string__"
   ]
  },
  {
   "cell_type": "markdown",
   "id": "0dda5bb1",
   "metadata": {},
   "source": [
    "Ans. Operators: + , % s  <br>\n",
    "     Method   : join()\n",
    "    "
   ]
  },
  {
   "cell_type": "markdown",
   "id": "8202ced8",
   "metadata": {},
   "source": [
    ">__Q8. What is the benefit of first checking the target string with in or not in before using the index method to find a substring?__"
   ]
  },
  {
   "cell_type": "markdown",
   "id": "2c0edc82",
   "metadata": {},
   "source": [
    "Ans. It helps to know if the substring is present in the target string or not. "
   ]
  },
  {
   "cell_type": "markdown",
   "id": "ef83470b",
   "metadata": {},
   "source": [
    ">__Q9. Which operators and built-in string methods produce simple Boolean (true/false) results?__"
   ]
  },
  {
   "cell_type": "markdown",
   "id": "c65f6040",
   "metadata": {},
   "source": [
    "Ans. \n",
    "Operators : and , or , not <br>\n",
    "Methods : bool()"
   ]
  }
 ],
 "metadata": {
  "kernelspec": {
   "display_name": "Python 3",
   "language": "python",
   "name": "python3"
  },
  "language_info": {
   "codemirror_mode": {
    "name": "ipython",
    "version": 3
   },
   "file_extension": ".py",
   "mimetype": "text/x-python",
   "name": "python",
   "nbconvert_exporter": "python",
   "pygments_lexer": "ipython3",
   "version": "3.8.8"
  }
 },
 "nbformat": 4,
 "nbformat_minor": 5
}
